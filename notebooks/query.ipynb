{
 "cells": [
  {
   "cell_type": "markdown",
   "metadata": {},
   "source": [
    "# Putting everything together\n",
    "\n",
    "In the previous two steps we retrieved the raw data and looked at the quality of it. Now, moving to a hypothetical deployment, we will switch over to a vector database for storing the embeddings and related meta data."
   ]
  },
  {
   "cell_type": "code",
   "execution_count": 80,
   "metadata": {},
   "outputs": [],
   "source": [
    "# required libraries\n",
    "from github import Github\n",
    "import os\n",
    "import pandas as pd\n",
    "import numpy as np\n",
    "import pickle\n",
    "\n",
    "# qudrant client to access the vector DB\n",
    "from qdrant_client import models, QdrantClient\n",
    "from sentence_transformers import SentenceTransformer\n",
    "\n",
    "# we are using some less optimal code, suppress the warnings for now\n",
    "import warnings\n",
    "warnings.simplefilter(action='ignore', category=pd.errors.PerformanceWarning)"
   ]
  },
  {
   "cell_type": "markdown",
   "metadata": {},
   "source": [
    "## Baseline data and model we use to perform similarity search"
   ]
  },
  {
   "cell_type": "code",
   "execution_count": 81,
   "metadata": {},
   "outputs": [],
   "source": [
    "# model used to encode the embeddings\n",
    "model = SentenceTransformer('all-MiniLM-L6-v2') # NOTE: make sure it's the same model used in the previous steps\n",
    "\n",
    "# load the data we prepared in the previous step\n",
    "unique_labels = pickle.load(open(\"../data/raw/labels.pkl\", 'rb'))\n",
    "deployment_issues = pickle.load(open(\"../data/deploy/issues.pkl\", 'rb'))"
   ]
  },
  {
   "cell_type": "code",
   "execution_count": 82,
   "metadata": {},
   "outputs": [],
   "source": [
    "## Create a DB colledction"
   ]
  },
  {
   "cell_type": "code",
   "execution_count": 83,
   "metadata": {},
   "outputs": [
    {
     "data": {
      "text/plain": [
       "True"
      ]
     },
     "execution_count": 83,
     "metadata": {},
     "output_type": "execute_result"
    }
   ],
   "source": [
    "# fow now in memory, we can switch to qudrant cloud or self-managed easily\n",
    "qdrant = QdrantClient(\":memory:\") \n",
    "\n",
    "# create a collection on the database\n",
    "# vector size needs to match the one used in the model\n",
    "qdrant.recreate_collection(\n",
    "\tcollection_name=\"github_issues\",\n",
    "\tvectors_config=models.VectorParams(\n",
    "\t\tsize=model.get_sentence_embedding_dimension(), # Vector size is defined by used model\n",
    "\t\tdistance=models.Distance.COSINE\n",
    "\t)\n",
    ")\n"
   ]
  },
  {
   "cell_type": "markdown",
   "metadata": {},
   "source": [
    "## Store the newly computed embeddings together with the meta data"
   ]
  },
  {
   "cell_type": "code",
   "execution_count": 84,
   "metadata": {},
   "outputs": [],
   "source": [
    "from collections import OrderedDict, defaultdict\n",
    "\n",
    "qdrant.upload_records(\n",
    "\tcollection_name=\"github_issues\",\n",
    "\trecords=[\n",
    "\t\tmodels.Record(\n",
    "\t\t\tid=idx,\n",
    "\t\t\tvector=model.encode(row[\"clean_body\"]).tolist(),\n",
    "\t\t\tpayload=row.to_dict(into=OrderedDict)\n",
    "\t\t) for idx, row in deployment_issues.iterrows()\n",
    "\t]\n",
    ")"
   ]
  },
  {
   "cell_type": "markdown",
   "metadata": {},
   "source": [
    "## Query the vector database"
   ]
  },
  {
   "cell_type": "code",
   "execution_count": 92,
   "metadata": {},
   "outputs": [
    {
     "name": "stdout",
     "output_type": "stream",
     "text": [
      "OTel exporter doc removal labels: ['area/documentation', 'area/tracing'] score: 0.7355860974098791\n",
      "Remove use/mention of 'compile quarkus:dev' labels: ['area/documentation', 'triage/needs-rebase', 'area/gradle', 'area/maven', 'area/kotlin', 'area/platform', 'area/scala', 'area/devtools', 'area/elasticsearch', 'triage/needs-feedback'] score: 0.7204583395564456\n",
      "Dev UI: Migrate Kafka streams to the new Dev UI labels: ['kind/enhancement', 'area/kafka-streams', 'area/dev-ui'] score: 0.7033200269488536\n",
      "\"Failed to run\" with no exception reported labels: ['kind/bug'] score: 0.6998032076118237\n",
      "OOM error in DevConsoleOidcNoDiscoverySmokeTest labels: ['kind/bug', 'area/devmode', 'area/dev-ui'] score: 0.680649823668969\n"
     ]
    }
   ],
   "source": [
    "hits = qdrant.search(\n",
    "\tcollection_name=\"github_issues\",\n",
    "\tquery_vector=model.encode(\"I get the following error when using Quarkus dev mode\").tolist(),\n",
    "\tlimit=5\n",
    ")\n",
    "for hit in hits:\n",
    "\tprint(hit.payload['title'], \"labels:\", hit.payload['labels'], \"score:\", hit.score)"
   ]
  }
 ],
 "metadata": {
  "kernelspec": {
   "display_name": "Python 3",
   "language": "python",
   "name": "python3"
  },
  "language_info": {
   "codemirror_mode": {
    "name": "ipython",
    "version": 3
   },
   "file_extension": ".py",
   "mimetype": "text/x-python",
   "name": "python",
   "nbconvert_exporter": "python",
   "pygments_lexer": "ipython3",
   "version": "3.10.8"
  },
  "orig_nbformat": 4
 },
 "nbformat": 4,
 "nbformat_minor": 2
}
