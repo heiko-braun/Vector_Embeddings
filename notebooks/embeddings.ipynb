{
 "cells": [
  {
   "cell_type": "markdown",
   "metadata": {},
   "source": [
    "# Create embeddings and perform similarity analysis\n",
    "\n",
    "My first attempt using bert models and hugging face transformers."
   ]
  },
  {
   "cell_type": "code",
   "execution_count": null,
   "metadata": {},
   "outputs": [],
   "source": [
    "# basics\n",
    "import os\n",
    "import pandas as pd\n",
    "import numpy as np\n",
    "import torch\n",
    "import matplotlib.pyplot as plt\n",
    "\n",
    "# bert transformers, huggingace, etc\n",
    "from sentence_transformers import SentenceTransformer, util\n",
    "\n",
    "# we are using some less optimal code, suppress the warnings for now\n",
    "import warnings\n",
    "warnings.simplefilter(action='ignore', category=pd.errors.SettingWithCopyWarning)"
   ]
  },
  {
   "cell_type": "markdown",
   "metadata": {},
   "source": [
    "## Similarity between two texts\n",
    "\n",
    "We compute the cosine similarity between embeddings, for example, to measure the semantic similarity of two texts. For this, we pick a smaller set from the orig data, i.e. all github issues that carry the label `area/devmode` already. Why? Issues with the same label are classified manually to belong to the same label. Let's see if our algorithm reflects this too.\n",
    "\n",
    "### One way to look at the data"
   ]
  },
  {
   "cell_type": "code",
   "execution_count": null,
   "metadata": {},
   "outputs": [],
   "source": [
    "\n",
    "model = SentenceTransformer('all-MiniLM-L6-v2')\n",
    "\n",
    "print(\"Loading issues from file...\")\n",
    "unique_labels = pickle.load(open(\"../data/labels.pkl\", 'rb'))\n",
    "df = pickle.load(open(\"../data/issues_prepared.pkl\", 'rb'))\n",
    "same_label_df = df[df['area/devmode'] == 1]\n",
    "\n",
    "# create equally sizes df's\n",
    "if (len(same_label_df) % 2) > 0:\n",
    "    same_label_df.drop(same_label_df.tail(1).index,inplace=True)\n",
    "df1, df2 = np.split(same_label_df['title'], 2)\n",
    "\n",
    "# Two lists of sentences\n",
    "sentences1 = df1.to_numpy()\n",
    "sentences2 = df2.to_numpy()\n",
    "\n",
    "# #Compute embedding for both lists\n",
    "embeddings1 = model.encode(sentences1, convert_to_tensor=True)\n",
    "embeddings2 = model.encode(sentences2, convert_to_tensor=True)\n",
    "\n",
    "#Compute cosine-similarities\n",
    "cosine_scores = util.cos_sim(embeddings1, embeddings2)\n",
    "\n",
    "#Output the score for each pair\n",
    "# for i in range(len(sentences1)):\n",
    "#     print(\"{} \\t Score: {:.4f}\".format(i, cosine_scores[i][i]))\n",
    "\n",
    "# Calculate the histogram of the above created tensor\n",
    "hist = torch.histc(cosine_scores, min = 0, max = 0.99)\n",
    "\n",
    "# Visualize above calculated histogram as bar diagram\n",
    "bins = 100\n",
    "x = range(bins)\n",
    "plt.bar(x, hist, align='center')\n",
    "plt.xlabel('Score')\n",
    "plt.ylabel('Frequency')\n",
    "plt.show()\n"
   ]
  },
  {
   "cell_type": "markdown",
   "metadata": {},
   "source": [
    "Out previous comparison show very low similarity scores for the majority of issues \n",
    "\n",
    "## Another way to look at the data\n",
    "\n",
    "Lets try find the ones with the highest degree of similarity, to see if we can learn something from it."
   ]
  },
  {
   "cell_type": "code",
   "execution_count": null,
   "metadata": {},
   "outputs": [],
   "source": [
    "# Single list of sentences\n",
    "sentences = [*sentences1, *sentences2]\n",
    "\n",
    "#Compute embeddings\n",
    "embeddings = model.encode(sentences, convert_to_tensor=True)\n",
    "\n",
    "#Compute cosine-similarities for each sentence with each other sentence\n",
    "cosine_scores = util.cos_sim(embeddings, embeddings)\n",
    "\n",
    "#Find the pairs with the highest cosine similarity scores\n",
    "pairs = []\n",
    "for i in range(len(cosine_scores)-1):\n",
    "    for j in range(i+1, len(cosine_scores)):\n",
    "        pairs.append({'index': [i, j], 'score': cosine_scores[i][j]})\n",
    "\n",
    "#Sort scores in decreasing order\n",
    "pairs = sorted(pairs, key=lambda x: x['score'], reverse=True)\n",
    "\n",
    "for pair in pairs[0:10]:\n",
    "    i, j = pair['index']\n",
    "    print(\"{} \\t\\t {} \\t\\t Score: {:.4f}\".format(sentences[i], sentences[j], pair['score']))\n"
   ]
  }
 ],
 "metadata": {
  "kernelspec": {
   "display_name": "Python 3",
   "language": "python",
   "name": "python3"
  },
  "language_info": {
   "codemirror_mode": {
    "name": "ipython",
    "version": 3
   },
   "file_extension": ".py",
   "mimetype": "text/x-python",
   "name": "python",
   "nbconvert_exporter": "python",
   "pygments_lexer": "ipython3",
   "version": "3.10.8"
  },
  "orig_nbformat": 4
 },
 "nbformat": 4,
 "nbformat_minor": 2
}
