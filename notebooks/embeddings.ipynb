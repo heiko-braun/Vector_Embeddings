{
 "cells": [
  {
   "cell_type": "markdown",
   "metadata": {},
   "source": [
    "# Create embeddings and perform similarity analysis\n",
    "\n",
    "My first attempt using bert models and huggingface transformers."
   ]
  },
  {
   "cell_type": "code",
   "execution_count": null,
   "metadata": {},
   "outputs": [],
   "source": [
    "# basics\n",
    "import os\n",
    "import pandas as pd\n",
    "import numpy as np\n",
    "import torch\n",
    "import matplotlib.pyplot as plt\n",
    "import pickle\n",
    "\n",
    "import nltk\n",
    "from nltk.corpus import stopwords\n",
    "import re\n",
    "\n",
    "# bert transformers, huggingace, etc\n",
    "from sentence_transformers import SentenceTransformer, util\n",
    "\n",
    "# we are using some less optimal code, suppress the warnings for now\n",
    "import warnings\n",
    "warnings.simplefilter(action='ignore', category=pd.errors.SettingWithCopyWarning)\n",
    "warnings.simplefilter(action='ignore', category=FutureWarning)\n",
    "\n",
    "nltk.download('stopwords')"
   ]
  },
  {
   "cell_type": "markdown",
   "metadata": {},
   "source": [
    "## Similarity between two texts\n",
    "\n",
    "We compute the cosine similarity between embeddings, for example, to measure the semantic similarity of two texts. For this, we pick a smaller set from the orig data, i.e. all github issues that carry the label `area/devmode` already. \n",
    "\n",
    "Why? Issues with the same (github) label are classified manually already. We can use this knowledge to validate the similarity scores before we move further with the implementation.\n",
    "\n",
    "### Sentence to sentence comparison\n",
    "\n",
    "How well do arbitray sentences (the issue `body` in this case) compare using cosine similarity of the embeddings?"
   ]
  },
  {
   "cell_type": "code",
   "execution_count": null,
   "metadata": {},
   "outputs": [],
   "source": [
    "\n",
    "gh_label = 'area/hibernate-orm' #'area/devmode'\n",
    "model = SentenceTransformer('all-MiniLM-L6-v2')\n",
    "\n",
    "print(\"Loading issues from file...\")\n",
    "unique_labels = pickle.load(open(\"../data/labels.pkl\", 'rb'))\n",
    "df = pickle.load(open(\"../data/issues_prepared.pkl\", 'rb'))\n",
    "same_label_df = df[df['area/devmode'] == 1]\n",
    "\n",
    "# create equally sizes df's\n",
    "if (len(same_label_df) % 2) > 0:\n",
    "    same_label_df.drop(same_label_df.tail(1).index,inplace=True)\n",
    "df1, df2 = np.split(same_label_df, 2)\n",
    "\n",
    "# clean the markdown output. There are too many false positives from the\n",
    "def clean(x, stopWords=stopwords.words('english')):    \n",
    "    if x == None: return x       \n",
    "    x = re.sub(r'^(#.*?)$', '', x, flags=re.MULTILINE)        \n",
    "    x = re.sub(r'^(\\*\\*.*?\\*\\*)$', '', x, flags=re.MULTILINE)        \n",
    "    wordsFiltered = []\n",
    "    for w in x.split():\n",
    "        if w not in stopWords:\n",
    "            wordsFiltered.append(w)\n",
    "    return \" \".join(wordsFiltered)        \n",
    "\n",
    "df1['clean_body'] = df1.apply(lambda x: clean(x['body']), axis=1)\n",
    "df2['clean_body'] = df2.apply(lambda x: clean(x['body']), axis=1)\n",
    "\n",
    "# Two lists of sentences\n",
    "sentences1 = df1['clean_body'].to_numpy()\n",
    "sentences2 = df2['clean_body'].to_numpy()\n",
    "\n",
    "# #Compute embedding for both lists\n",
    "embeddings1 = model.encode(sentences1, convert_to_tensor=True)\n",
    "embeddings2 = model.encode(sentences2, convert_to_tensor=True)\n",
    "\n",
    "#Compute cosine-similarities\n",
    "cosine_scores = util.cos_sim(embeddings1, embeddings2)\n",
    "\n",
    "# an attempt to visualize the data\n",
    "tensor = cosine_scores.numpy()\n",
    "\n",
    "# Create a heatmap\n",
    "plt.figure(figsize=(8, 6))\n",
    "plt.imshow(cosine_scores, cmap='coolwarm', interpolation='nearest')\n",
    "plt.colorbar(label='Cosine Similarity')\n",
    "plt.title('Cosine Similarity Heatmap')\n",
    "plt.xlabel('Vector Index')\n",
    "plt.ylabel('Vector Index')\n",
    "plt.tight_layout()\n",
    "plt.show()"
   ]
  },
  {
   "cell_type": "markdown",
   "metadata": {},
   "source": [
    "Our previous comparison shows low similarity scores for the majority of issues \n",
    "\n",
    "### Pairs with the highest cosine similarity scores\n",
    "\n",
    "Lets try find the ones with the highest degree of similarity, to see if we can learn something from it."
   ]
  },
  {
   "cell_type": "code",
   "execution_count": null,
   "metadata": {},
   "outputs": [],
   "source": [
    "# Single list of sentences\n",
    "sentences = [*sentences1, *sentences2]\n",
    "print(\"Total sentences: \", len(sentences))\n",
    "\n",
    "#Compute embeddings\n",
    "embeddings = model.encode(sentences, convert_to_tensor=True)\n",
    "\n",
    "#Compute cosine-similarities for each sentence with each other sentence\n",
    "cosine_scores = util.cos_sim(embeddings, embeddings)\n",
    "\n",
    "#Find the pairs with the highest cosine similarity scores\n",
    "pairs = []\n",
    "for i in range(len(cosine_scores)-1):\n",
    "    for j in range(i+1, len(cosine_scores)):\n",
    "        pairs.append({'index': [i, j], 'score': cosine_scores[i][j]})\n",
    "\n",
    "#Sort scores in decreasing order\n",
    "pairs = sorted(pairs, key=lambda x: x['score'], reverse=True)\n",
    "\n",
    "output = pd.DataFrame(columns=['A', 'B', 'Score'])\n",
    "\n",
    "for pair in pairs[0:10]:\n",
    "    i, j = pair['index']\n",
    "    new_row = {'A':sentences[i], 'B':sentences[j], 'Score':pair['score']}\n",
    "    output = output.append(new_row, ignore_index=True)    \n",
    "\n",
    "output.head()\n",
    "\n"
   ]
  }
 ],
 "metadata": {
  "kernelspec": {
   "display_name": "Python 3",
   "language": "python",
   "name": "python3"
  },
  "language_info": {
   "codemirror_mode": {
    "name": "ipython",
    "version": 3
   },
   "file_extension": ".py",
   "mimetype": "text/x-python",
   "name": "python",
   "nbconvert_exporter": "python",
   "pygments_lexer": "ipython3",
   "version": "3.10.8"
  },
  "orig_nbformat": 4
 },
 "nbformat": 4,
 "nbformat_minor": 2
}
