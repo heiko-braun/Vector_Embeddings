{
 "cells": [
  {
   "cell_type": "markdown",
   "metadata": {},
   "source": [
    "# Issue Classification Example\n",
    "\n",
    "In this example we perform a logical regression on a dataset of github issues to predict the labels on newly entered tickets.\n",
    "\n",
    "In a second step we try to find issues that deal with similar problems."
   ]
  },
  {
   "cell_type": "code",
   "execution_count": 1,
   "metadata": {},
   "outputs": [],
   "source": [
    "# required libraries\n",
    "from github import Github\n",
    "import os\n",
    "import pandas as pd"
   ]
  },
  {
   "cell_type": "code",
   "execution_count": 12,
   "metadata": {},
   "outputs": [
    {
     "name": "stdout",
     "output_type": "stream",
     "text": [
      "Number of issues in total:  2305\n",
      "area/core\n",
      "area/dependencies\n",
      "area/documentation\n",
      "area/platform\n",
      "area/kubernetes\n",
      "area/dependencies\n",
      "area/arc\n",
      "kind/bug\n",
      "area/arc\n",
      "area/documentation\n",
      "area/kubernetes\n",
      "area/gradle\n",
      "kind/enhancement\n"
     ]
    },
    {
     "ename": "IndexError",
     "evalue": "list index out of range",
     "output_type": "error",
     "traceback": [
      "\u001b[0;31m---------------------------------------------------------------------------\u001b[0m",
      "\u001b[0;31mIndexError\u001b[0m                                Traceback (most recent call last)",
      "Cell \u001b[0;32mIn[12], line 13\u001b[0m\n\u001b[1;32m     11\u001b[0m issues_list \u001b[39m=\u001b[39m []    \n\u001b[1;32m     12\u001b[0m \u001b[39mfor\u001b[39;00m issue \u001b[39min\u001b[39;00m issues\u001b[39m.\u001b[39mget_page(\u001b[39m0\u001b[39m): \u001b[39m# TODO: remove pagination later on\u001b[39;00m\n\u001b[0;32m---> 13\u001b[0m     \u001b[39mprint\u001b[39m(issue\u001b[39m.\u001b[39;49mlabels[\u001b[39m0\u001b[39;49m]\u001b[39m.\u001b[39mname)\n\u001b[1;32m     14\u001b[0m     issues_list\u001b[39m.\u001b[39mappend([issue\u001b[39m.\u001b[39mnumber, issue\u001b[39m.\u001b[39mtitle, issue\u001b[39m.\u001b[39mbody, issue\u001b[39m.\u001b[39mlabels,  issue\u001b[39m.\u001b[39mstate])\n\u001b[1;32m     15\u001b[0m issues_df \u001b[39m=\u001b[39m pd\u001b[39m.\u001b[39mDataFrame(issues_list, columns\u001b[39m=\u001b[39m[\u001b[39m'\u001b[39m\u001b[39mnumber\u001b[39m\u001b[39m'\u001b[39m, \u001b[39m'\u001b[39m\u001b[39mtitle\u001b[39m\u001b[39m'\u001b[39m, \u001b[39m'\u001b[39m\u001b[39mbody\u001b[39m\u001b[39m'\u001b[39m, \u001b[39m'\u001b[39m\u001b[39mlabels\u001b[39m\u001b[39m'\u001b[39m, \u001b[39m'\u001b[39m\u001b[39mstate\u001b[39m\u001b[39m'\u001b[39m])\n",
      "\u001b[0;31mIndexError\u001b[0m: list index out of range"
     ]
    }
   ],
   "source": [
    "\n",
    "# Data Preparation \n",
    "\n",
    "## retrieve the issues from github\n",
    "access_token = USER = os.getenv('GH_API_ACCESS')\n",
    "token = Github(access_token)\n",
    "repo = token.get_repo('quarkusio/quarkus')\n",
    "issues = repo.get_issues(state='open')\n",
    "print(\"Number of issues in total: \", issues.totalCount)\n",
    "\n",
    "## turn the data into a pandas dataframe\n",
    "issues_list = []    \n",
    "for issue in issues.get_page(0): # TODO: remove pagination later on\n",
    "    print(issue.labels[0].name)\n",
    "    issues_list.append([issue.number, issue.title, issue.body, issue.labels,  issue.state])\n",
    "issues_df = pd.DataFrame(issues_list, columns=['number', 'title', 'body', 'labels', 'state'])\n",
    "issues_df.head()\n"
   ]
  }
 ],
 "metadata": {
  "kernelspec": {
   "display_name": "Python 3",
   "language": "python",
   "name": "python3"
  },
  "language_info": {
   "codemirror_mode": {
    "name": "ipython",
    "version": 3
   },
   "file_extension": ".py",
   "mimetype": "text/x-python",
   "name": "python",
   "nbconvert_exporter": "python",
   "pygments_lexer": "ipython3",
   "version": "3.10.8"
  },
  "orig_nbformat": 4
 },
 "nbformat": 4,
 "nbformat_minor": 2
}
