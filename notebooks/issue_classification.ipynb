{
 "cells": [
  {
   "cell_type": "markdown",
   "metadata": {},
   "source": [
    "# Issue Classification Example\n",
    "\n",
    "In this example we perform a logical regression on a dataset of github issues to predict the labels on newly entered tickets.\n",
    "\n",
    "In a second step we try to find issues that deal with similar problems."
   ]
  },
  {
   "cell_type": "code",
   "execution_count": null,
   "metadata": {},
   "outputs": [],
   "source": [
    "# required libraries\n",
    "from github import Github\n",
    "import os\n",
    "import pandas as pd\n",
    "import numpy as np\n",
    "import pickle"
   ]
  },
  {
   "cell_type": "code",
   "execution_count": null,
   "metadata": {},
   "outputs": [],
   "source": [
    "\n",
    "# Data Preparation \n",
    "\n",
    "## Retrieve the issues from github\n",
    "\n",
    "access_token = USER = os.getenv('GH_API_ACCESS')\n",
    "token = Github(access_token)\n",
    "repo = token.get_repo('quarkusio/quarkus')\n",
    "\n",
    "# force_fetch = False\n",
    "# if (force_fetch or not os.path.exists('../data/issues.pkl')): \n",
    "#     issues = repo.get_issues(state='open')  \n",
    "#     pickle.dump(issues, open('../data/issues.pkl', 'wb'))\n",
    "# else:\n",
    "#     print(\"Loading issues from file...\")\n",
    "#     issues = pickle.load(open(\"../data/issues.pkl\", 'rb'))\n",
    "\n",
    "\n",
    "issues = repo.get_issues(state='open')  \n",
    "print(\"Number of issues in total: \", issues.totalCount)\n",
    "\n",
    "cols = columns = ['number', 'title', 'body', 'labels', 'state']\n",
    "df = pd.DataFrame(columns = cols)\n",
    "unique_labels = set()\n",
    "\n",
    "for issue in issues.get_page(0):\n",
    "    lable_names = []\n",
    "    for label in issue.get_labels():\n",
    "        lable_names.append(label.name)\n",
    "        unique_labels.add(label.name)\n",
    "    new_record = pd.DataFrame([[issue.number, issue.title, issue.body, lable_names, issue.state]], columns=cols)\n",
    "    df = pd.concat([df, new_record], ignore_index=True)    \n",
    "\n",
    "print(\"Unique labels ({0}): {1}\".format(len(unique_labels), unique_labels))\n",
    "df.head()"
   ]
  }
 ],
 "metadata": {
  "kernelspec": {
   "display_name": "Python 3",
   "language": "python",
   "name": "python3"
  },
  "language_info": {
   "codemirror_mode": {
    "name": "ipython",
    "version": 3
   },
   "file_extension": ".py",
   "mimetype": "text/x-python",
   "name": "python",
   "nbconvert_exporter": "python",
   "pygments_lexer": "ipython3",
   "version": "3.10.8"
  },
  "orig_nbformat": 4
 },
 "nbformat": 4,
 "nbformat_minor": 2
}
