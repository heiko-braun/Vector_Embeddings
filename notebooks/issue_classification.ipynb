{
 "cells": [
  {
   "cell_type": "markdown",
   "metadata": {},
   "source": [
    "# Issue Classification Example\n",
    "\n",
    "In this example we perform a logical regression on a dataset of github issues to predict the labels on newly entered tickets.\n",
    "\n",
    "In a second step we try to find issues that deal with similar problems."
   ]
  },
  {
   "cell_type": "code",
   "execution_count": null,
   "metadata": {},
   "outputs": [],
   "source": [
    "# required libraries\n",
    "from github import Github\n",
    "import os\n",
    "import pandas as pd\n",
    "import numpy as np\n",
    "import pickle"
   ]
  },
  {
   "cell_type": "code",
   "execution_count": 28,
   "metadata": {},
   "outputs": [
    {
     "name": "stdout",
     "output_type": "stream",
     "text": [
      "Loading issues from file...\n",
      "Number of issues in total:  2290\n",
      "Unique labels (142)\n"
     ]
    },
    {
     "data": {
      "text/html": [
       "<div>\n",
       "<style scoped>\n",
       "    .dataframe tbody tr th:only-of-type {\n",
       "        vertical-align: middle;\n",
       "    }\n",
       "\n",
       "    .dataframe tbody tr th {\n",
       "        vertical-align: top;\n",
       "    }\n",
       "\n",
       "    .dataframe thead th {\n",
       "        text-align: right;\n",
       "    }\n",
       "</style>\n",
       "<table border=\"1\" class=\"dataframe\">\n",
       "  <thead>\n",
       "    <tr style=\"text-align: right;\">\n",
       "      <th></th>\n",
       "      <th>number</th>\n",
       "      <th>title</th>\n",
       "      <th>body</th>\n",
       "      <th>labels</th>\n",
       "      <th>state</th>\n",
       "    </tr>\n",
       "  </thead>\n",
       "  <tbody>\n",
       "    <tr>\n",
       "      <th>0</th>\n",
       "      <td>35635</td>\n",
       "      <td>Refactor Hibernate config mapping to use group...</td>\n",
       "      <td>Fixes #35631\\r\\n\\r\\nFollows up on commit ad94a...</td>\n",
       "      <td>[area/persistence, area/hibernate-orm, area/hi...</td>\n",
       "      <td>open</td>\n",
       "    </tr>\n",
       "    <tr>\n",
       "      <th>1</th>\n",
       "      <td>35634</td>\n",
       "      <td>Extends ServerInterceptor not working</td>\n",
       "      <td>### Describe the bug\\r\\n\\r\\n1. define an `inte...</td>\n",
       "      <td>[kind/bug, triage/needs-triage]</td>\n",
       "      <td>open</td>\n",
       "    </tr>\n",
       "    <tr>\n",
       "      <th>2</th>\n",
       "      <td>35633</td>\n",
       "      <td>Make hibernate reactive status clear in docs</td>\n",
       "      <td>seem we missed the regular inclusion of status...</td>\n",
       "      <td>[area/documentation, triage/backport-2.13?, tr...</td>\n",
       "      <td>open</td>\n",
       "    </tr>\n",
       "    <tr>\n",
       "      <th>3</th>\n",
       "      <td>35631</td>\n",
       "      <td>Quarkus 3.2: Hibernate ORM configuration probl...</td>\n",
       "      <td>### Describe the bug\\n\\nI'm upgrading to Quark...</td>\n",
       "      <td>[kind/bug, area/persistence, area/hibernate-orm]</td>\n",
       "      <td>open</td>\n",
       "    </tr>\n",
       "    <tr>\n",
       "      <th>4</th>\n",
       "      <td>35630</td>\n",
       "      <td>Fix doc link asciidoc change link to xref wher...</td>\n",
       "      <td>This PR fixes some broken 404s identified duri...</td>\n",
       "      <td>[area/documentation, triage/backport?, area/do...</td>\n",
       "      <td>open</td>\n",
       "    </tr>\n",
       "  </tbody>\n",
       "</table>\n",
       "</div>"
      ],
      "text/plain": [
       "  number                                              title  \\\n",
       "0  35635  Refactor Hibernate config mapping to use group...   \n",
       "1  35634              Extends ServerInterceptor not working   \n",
       "2  35633       Make hibernate reactive status clear in docs   \n",
       "3  35631  Quarkus 3.2: Hibernate ORM configuration probl...   \n",
       "4  35630  Fix doc link asciidoc change link to xref wher...   \n",
       "\n",
       "                                                body  \\\n",
       "0  Fixes #35631\\r\\n\\r\\nFollows up on commit ad94a...   \n",
       "1  ### Describe the bug\\r\\n\\r\\n1. define an `inte...   \n",
       "2  seem we missed the regular inclusion of status...   \n",
       "3  ### Describe the bug\\n\\nI'm upgrading to Quark...   \n",
       "4  This PR fixes some broken 404s identified duri...   \n",
       "\n",
       "                                              labels state  \n",
       "0  [area/persistence, area/hibernate-orm, area/hi...  open  \n",
       "1                    [kind/bug, triage/needs-triage]  open  \n",
       "2  [area/documentation, triage/backport-2.13?, tr...  open  \n",
       "3   [kind/bug, area/persistence, area/hibernate-orm]  open  \n",
       "4  [area/documentation, triage/backport?, area/do...  open  "
      ]
     },
     "execution_count": 28,
     "metadata": {},
     "output_type": "execute_result"
    }
   ],
   "source": [
    "\n",
    "# Data Preparation \n",
    "\n",
    "## Retrieve the issues from github\n",
    "\n",
    "force_fetch = False\n",
    "\n",
    "access_token = USER = os.getenv('GH_API_ACCESS')\n",
    "token = Github(access_token)\n",
    "repo = token.get_repo('quarkusio/quarkus')\n",
    "\n",
    "# load issue if they don't exist (or forced)\n",
    "if (force_fetch or not os.path.exists('../data/issues.pkl')): \n",
    "    issues = repo.get_issues(state='open')  \n",
    "    \n",
    "    cols = columns = ['number', 'title', 'body', 'labels', 'state']\n",
    "    df = pd.DataFrame(columns = cols)\n",
    "    unique_labels = set()\n",
    "\n",
    "    for issue in issues:    \n",
    "        label_names = []\n",
    "        for label in issue.labels:        \n",
    "            label_names.append(label.name)\n",
    "            unique_labels.add(label.name)\n",
    "        new_record = pd.DataFrame([[issue.number, issue.title, issue.body, label_names, issue.state]], columns=cols)\n",
    "        df = pd.concat([df, new_record], ignore_index=True)    \n",
    "\n",
    "    pickle.dump(issues, open('../data/issues.pkl', 'wb'))\n",
    "    pickle.dump(unique_labels, open('../data/labels.pkl', 'wb'))\n",
    "else:\n",
    "    print(\"Loading issues from file...\")\n",
    "    unique_labels = pickle.load(open(\"../data/labels.pkl\", 'rb'))\n",
    "    issues = pickle.load(open(\"../data/issues.pkl\", 'rb'))\n",
    "\n",
    "# let's see what we have\n",
    "print(\"Number of issues in total: \", issues.totalCount)\n",
    "print(\"Unique labels ({0})\".format(len(unique_labels)))    \n",
    "df.head()\n"
   ]
  },
  {
   "cell_type": "code",
   "execution_count": 20,
   "metadata": {},
   "outputs": [
    {
     "data": {
      "text/plain": [
       "2290"
      ]
     },
     "execution_count": 20,
     "metadata": {},
     "output_type": "execute_result"
    }
   ],
   "source": [
    "df.head()"
   ]
  }
 ],
 "metadata": {
  "kernelspec": {
   "display_name": "Python 3",
   "language": "python",
   "name": "python3"
  },
  "language_info": {
   "codemirror_mode": {
    "name": "ipython",
    "version": 3
   },
   "file_extension": ".py",
   "mimetype": "text/x-python",
   "name": "python",
   "nbconvert_exporter": "python",
   "pygments_lexer": "ipython3",
   "version": "3.10.8"
  },
  "orig_nbformat": 4
 },
 "nbformat": 4,
 "nbformat_minor": 2
}
